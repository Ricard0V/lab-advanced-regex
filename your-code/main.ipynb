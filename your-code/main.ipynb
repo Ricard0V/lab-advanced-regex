{
  "cells": [
    {
      "cell_type": "markdown",
      "metadata": {
        "id": "_ijQ7FgHdDhN"
      },
      "source": [
        "# Advanced Regular Expressions Lab\n",
        "\n",
        "Complete the following set of exercises to solidify your knowledge of regular expressions."
      ]
    },
    {
      "cell_type": "code",
      "execution_count": 1,
      "metadata": {
        "id": "sKsaj7ModDhS"
      },
      "outputs": [],
      "source": [
        "import re"
      ]
    },
    {
      "cell_type": "markdown",
      "metadata": {
        "id": "kfbF_eghdDhU"
      },
      "source": [
        "### 1. Use a regular expression to find and extract all vowels in the following text."
      ]
    },
    {
      "cell_type": "code",
      "execution_count": 3,
      "metadata": {
        "id": "0xX6B67PdDhU"
      },
      "outputs": [],
      "source": [
        "text = \"This is going to be a sentence with a good number of vowels in it.\""
      ]
    },
    {
      "cell_type": "code",
      "execution_count": 4,
      "metadata": {
        "colab": {
          "base_uri": "https://localhost:8080/"
        },
        "id": "saKIRsKtdDhV",
        "outputId": "a9f88d6d-810f-4eca-b266-744d7ef2069d"
      },
      "outputs": [
        {
          "output_type": "stream",
          "name": "stdout",
          "text": [
            "['i', 'i', 'o', 'i', 'o', 'e', 'a', 'e', 'e', 'e', 'i', 'a', 'o', 'o', 'u', 'e', 'o', 'o', 'e', 'i', 'i']\n"
          ]
        }
      ],
      "source": [
        "print(re.findall(r'[aeiou]',text))"
      ]
    },
    {
      "cell_type": "markdown",
      "metadata": {
        "id": "EGkAz_IQdDhV"
      },
      "source": [
        "### 2. Use a regular expression to find and extract all occurrences and tenses (singular and plural) of the word \"puppy\" in the text below."
      ]
    },
    {
      "cell_type": "code",
      "execution_count": 5,
      "metadata": {
        "id": "hkGvOwjLdDhW"
      },
      "outputs": [],
      "source": [
        "text = \"The puppy saw all the rest of the puppies playing and wanted to join them. I saw this and wanted a puppy of my own!\""
      ]
    },
    {
      "cell_type": "code",
      "execution_count": 6,
      "metadata": {
        "colab": {
          "base_uri": "https://localhost:8080/"
        },
        "id": "i9e8RPV9dDhW",
        "outputId": "b7756154-8358-4b91-931f-20164ff7b033"
      },
      "outputs": [
        {
          "output_type": "stream",
          "name": "stdout",
          "text": [
            "['puppy', 'puppies', 'puppy']\n"
          ]
        }
      ],
      "source": [
        "print(re.findall(r'pupp\\w+',text))"
      ]
    },
    {
      "cell_type": "markdown",
      "metadata": {
        "id": "5OLkszNEdDhX"
      },
      "source": [
        "### 3. Use a regular expression to find and extract all tenses (present and past) of the word \"run\" in the text below."
      ]
    },
    {
      "cell_type": "code",
      "execution_count": 7,
      "metadata": {
        "id": "ynuODawMdDhY"
      },
      "outputs": [],
      "source": [
        "text = \"I ran the relay race the only way I knew how to run it.\""
      ]
    },
    {
      "cell_type": "code",
      "execution_count": 8,
      "metadata": {
        "colab": {
          "base_uri": "https://localhost:8080/"
        },
        "id": "L0hJH9pQdDhY",
        "outputId": "441bd44a-818f-4886-ef37-21040f5cb75f"
      },
      "outputs": [
        {
          "output_type": "stream",
          "name": "stdout",
          "text": [
            "['ran', 'run']\n"
          ]
        }
      ],
      "source": [
        "print(re.findall(r'(r.n)',text))"
      ]
    },
    {
      "cell_type": "markdown",
      "metadata": {
        "id": "lvXNsWZKdDhZ"
      },
      "source": [
        "### 4. Use a regular expression to find and extract all words that begin with the letter \"r\" from the previous text."
      ]
    },
    {
      "cell_type": "code",
      "execution_count": 9,
      "metadata": {
        "colab": {
          "base_uri": "https://localhost:8080/"
        },
        "id": "dH3vBqhrdDhZ",
        "outputId": "8b1fc750-7c39-46e1-d03d-53f33efe7342"
      },
      "outputs": [
        {
          "output_type": "stream",
          "name": "stdout",
          "text": [
            "['ran', 'relay', 'race', 'run']\n"
          ]
        }
      ],
      "source": [
        "print(re.findall(r'r\\w+',text))"
      ]
    },
    {
      "cell_type": "markdown",
      "metadata": {
        "id": "co8xH-Q6dDhZ"
      },
      "source": [
        "### 5. Use a regular expression to find and substitute the letter \"i\" for the exclamation marks in the text below."
      ]
    },
    {
      "cell_type": "code",
      "execution_count": 10,
      "metadata": {
        "id": "YgVQZiQOdDha"
      },
      "outputs": [],
      "source": [
        "text = \"Th!s !s a sentence w!th spec!al characters !n !t.\""
      ]
    },
    {
      "cell_type": "code",
      "execution_count": 11,
      "metadata": {
        "colab": {
          "base_uri": "https://localhost:8080/",
          "height": 35
        },
        "id": "SK4jISGbdDha",
        "outputId": "ca631dda-0e4b-4383-d98a-3764935f3e4c"
      },
      "outputs": [
        {
          "output_type": "execute_result",
          "data": {
            "text/plain": [
              "'This is a sentence with special characters in it.'"
            ],
            "application/vnd.google.colaboratory.intrinsic+json": {
              "type": "string"
            }
          },
          "metadata": {},
          "execution_count": 11
        }
      ],
      "source": [
        "re.sub('!','i',text)"
      ]
    },
    {
      "cell_type": "markdown",
      "metadata": {
        "id": "KraWGYIFdDhb"
      },
      "source": [
        "### 6. Use a regular expression to find and extract words longer than 4 characters in the text below."
      ]
    },
    {
      "cell_type": "code",
      "execution_count": 12,
      "metadata": {
        "id": "yL9gxsoTdDhb"
      },
      "outputs": [],
      "source": [
        "text = \"This sentence has words of varying lengths.\""
      ]
    },
    {
      "cell_type": "code",
      "execution_count": 13,
      "metadata": {
        "colab": {
          "base_uri": "https://localhost:8080/"
        },
        "id": "yI5uhHrMdDhb",
        "outputId": "72425861-372f-4cde-86ff-649445ad4a31"
      },
      "outputs": [
        {
          "output_type": "execute_result",
          "data": {
            "text/plain": [
              "['This', 'sentence', 'words', 'varying', 'lengths']"
            ]
          },
          "metadata": {},
          "execution_count": 13
        }
      ],
      "source": [
        "re.findall(r'\\w{4,}',text)"
      ]
    },
    {
      "cell_type": "markdown",
      "metadata": {
        "id": "vmvYtu4LdDhc"
      },
      "source": [
        "### 7. Use a regular expression to find and extract all occurrences of the letter \"b\", some letter(s), and then the letter \"t\" in the sentence below."
      ]
    },
    {
      "cell_type": "code",
      "execution_count": 14,
      "metadata": {
        "id": "ioRWoUqHdDhc"
      },
      "outputs": [],
      "source": [
        "text = \"I bet the robot couldn't beat the other bot with a bat, but instead it bit me.\""
      ]
    },
    {
      "cell_type": "code",
      "execution_count": 15,
      "metadata": {
        "colab": {
          "base_uri": "https://localhost:8080/"
        },
        "id": "PHRDox85dDhc",
        "outputId": "5dd37433-5215-4454-a632-a9f1860b2748"
      },
      "outputs": [
        {
          "output_type": "execute_result",
          "data": {
            "text/plain": [
              "['bet', 'bot', 'bot', 'bat', 'but', 'bit']"
            ]
          },
          "metadata": {},
          "execution_count": 15
        }
      ],
      "source": [
        "re.findall(r'b[a-z]t',text)"
      ]
    },
    {
      "cell_type": "markdown",
      "metadata": {
        "id": "hy6QJXasdDhc"
      },
      "source": [
        "### 8. Use a regular expression to find and extract all words that contain either \"ea\" or \"eo\" in them."
      ]
    },
    {
      "cell_type": "code",
      "execution_count": 16,
      "metadata": {
        "id": "1IdxWZHSdDhd"
      },
      "outputs": [],
      "source": [
        "text = \"During many of the peaks and troughs of history, the people living it didn't fully realize what was unfolding. But we all know we're navigating breathtaking history: Nearly every day could be — maybe will be — a book.\"\n"
      ]
    },
    {
      "cell_type": "code",
      "execution_count": 17,
      "metadata": {
        "colab": {
          "base_uri": "https://localhost:8080/"
        },
        "id": "Qesun6KydDhd",
        "outputId": "ee25cc5e-8429-41f5-bdf2-6a72af425ef3"
      },
      "outputs": [
        {
          "output_type": "execute_result",
          "data": {
            "text/plain": [
              "['peaks', 'people', 'realize', 'breathtaking', 'Nearly']"
            ]
          },
          "metadata": {},
          "execution_count": 17
        }
      ],
      "source": [
        "re.findall(r'\\w+ea\\w+|\\w+eo\\w+',text)"
      ]
    },
    {
      "cell_type": "markdown",
      "metadata": {
        "id": "qiiXdWnvdDhd"
      },
      "source": [
        "### 9. Use a regular expression to find and extract all the capitalized words in the text below individually."
      ]
    },
    {
      "cell_type": "code",
      "execution_count": 18,
      "metadata": {
        "id": "39MP3LezdDhe"
      },
      "outputs": [],
      "source": [
        "text = \"Teddy Roosevelt and Abraham Lincoln walk into a bar.\""
      ]
    },
    {
      "cell_type": "code",
      "execution_count": 19,
      "metadata": {
        "colab": {
          "base_uri": "https://localhost:8080/"
        },
        "id": "95njA_PadDhe",
        "outputId": "13240bb8-3fec-43eb-acbd-8ccbd49aef81"
      },
      "outputs": [
        {
          "output_type": "execute_result",
          "data": {
            "text/plain": [
              "['Teddy', 'Roosevelt', 'Abraham', 'Lincoln']"
            ]
          },
          "metadata": {},
          "execution_count": 19
        }
      ],
      "source": [
        "re.findall(r'[A-Z]\\w+',text)"
      ]
    },
    {
      "cell_type": "markdown",
      "metadata": {
        "id": "77CcIkaUdDhe"
      },
      "source": [
        "### 10. Use a regular expression to find and extract all the sets of consecutive capitalized words in the text above."
      ]
    },
    {
      "cell_type": "code",
      "execution_count": 25,
      "metadata": {
        "colab": {
          "base_uri": "https://localhost:8080/"
        },
        "id": "oHAc4sbjdDhe",
        "outputId": "7e67c23b-bd0e-4d84-f9e3-29d040bdda75"
      },
      "outputs": [
        {
          "output_type": "execute_result",
          "data": {
            "text/plain": [
              "[]"
            ]
          },
          "metadata": {},
          "execution_count": 25
        }
      ],
      "source": [
        "re.findall(r'[A-Z]\\w+ [A-Z]\\w+',text)"
      ]
    },
    {
      "cell_type": "markdown",
      "metadata": {
        "id": "HIw5S-kidDhf"
      },
      "source": [
        "### 11. Use a regular expression to find and extract all the quotes from the text below.\n",
        "\n",
        "*Hint: This one is a little more complex than the single quote example in the lesson because there are multiple quotes in the text.*"
      ]
    },
    {
      "cell_type": "code",
      "execution_count": 26,
      "metadata": {
        "colab": {
          "base_uri": "https://localhost:8080/"
        },
        "id": "qyBKVTe_dDhf",
        "outputId": "d0cbc3fa-637e-4356-aaf2-e14fd5661f14"
      },
      "outputs": [
        {
          "output_type": "execute_result",
          "data": {
            "text/plain": [
              "[]"
            ]
          },
          "metadata": {},
          "execution_count": 26
        }
      ],
      "source": [
        "re.findall(r'\"(.*?)\"',text)"
      ]
    },
    {
      "cell_type": "code",
      "execution_count": 24,
      "metadata": {
        "colab": {
          "base_uri": "https://localhost:8080/"
        },
        "id": "xr9-4ddpdDhf",
        "outputId": "597c3929-10a8-4aa0-a731-b19b5e8de548"
      },
      "outputs": [
        {
          "output_type": "execute_result",
          "data": {
            "text/plain": [
              "[]"
            ]
          },
          "metadata": {},
          "execution_count": 24
        }
      ],
      "source": [
        "re.findall(r'[A-Z]\\w+ [A-Z]\\w+',text)\n",
        "\n",
        "# outra solução, mais complexa"
      ]
    },
    {
      "cell_type": "markdown",
      "metadata": {
        "id": "SXzPHWhmdDhf"
      },
      "source": [
        "### 12. Use a regular expression to find and extract all the numbers from the text below."
      ]
    },
    {
      "cell_type": "code",
      "execution_count": 27,
      "metadata": {
        "id": "IjLs9NghdDhg"
      },
      "outputs": [],
      "source": [
        "text = \"There were 30 students in the class. Of the 30 students, 14 were male and 16 were female. Only 10 students got A's on the exam.\"\n"
      ]
    },
    {
      "cell_type": "code",
      "execution_count": 28,
      "metadata": {
        "colab": {
          "base_uri": "https://localhost:8080/"
        },
        "id": "wOeJ3IIFdDhg",
        "outputId": "b610d818-7405-4cb2-8696-681247f11c35"
      },
      "outputs": [
        {
          "output_type": "execute_result",
          "data": {
            "text/plain": [
              "['30', '30', '14', '16', '10']"
            ]
          },
          "metadata": {},
          "execution_count": 28
        }
      ],
      "source": [
        "re.findall(r'\\d+',text)"
      ]
    },
    {
      "cell_type": "markdown",
      "metadata": {
        "id": "Dmwyp6WBdDhg"
      },
      "source": [
        "### 13. Use a regular expression to find and extract all the social security numbers from the text below."
      ]
    },
    {
      "cell_type": "code",
      "execution_count": 29,
      "metadata": {
        "id": "uf8LTkwadDhh"
      },
      "outputs": [],
      "source": [
        "text = \"\"\"\n",
        "Henry's social security number is 876-93-2289 and his phone number is (847)789-0984.\n",
        "Darlene's social security number is 098-32-5295 and her phone number is (987)222-0901.\n",
        "\"\"\""
      ]
    },
    {
      "cell_type": "code",
      "execution_count": null,
      "metadata": {
        "id": "QNiBLBe4dDhh"
      },
      "outputs": [],
      "source": [
        "re.findall(r'\\d+-\\d+-\\d+',text)"
      ]
    },
    {
      "cell_type": "markdown",
      "metadata": {
        "id": "b5oIYrJ0dDhh"
      },
      "source": [
        "### 14. Use a regular expression to find and extract all the phone numbers from the text below."
      ]
    },
    {
      "cell_type": "code",
      "execution_count": 30,
      "metadata": {
        "colab": {
          "base_uri": "https://localhost:8080/"
        },
        "id": "fUg3l2OfdDhh",
        "outputId": "1b2c20e2-969b-4d7d-819f-c14dc6727860"
      },
      "outputs": [
        {
          "output_type": "execute_result",
          "data": {
            "text/plain": [
              "['(847)789-0984', '(987)222-0901']"
            ]
          },
          "metadata": {},
          "execution_count": 30
        }
      ],
      "source": [
        "re.findall(r'\\(\\d+\\)\\d+-\\d+',text)"
      ]
    },
    {
      "cell_type": "markdown",
      "metadata": {
        "id": "HOZ7IbrVdDhh"
      },
      "source": [
        "### 15. Use a regular expression to find and extract all the formatted numbers (both social security and phone) from the text below."
      ]
    },
    {
      "cell_type": "code",
      "execution_count": 31,
      "metadata": {
        "colab": {
          "base_uri": "https://localhost:8080/"
        },
        "id": "8wsMRCDodDhi",
        "outputId": "9b5bdcb2-b02e-4526-ac5b-ca5581a49840"
      },
      "outputs": [
        {
          "output_type": "execute_result",
          "data": {
            "text/plain": [
              "['876-93-2289', '(847)789-0984', '098-32-5295', '(987)222-0901']"
            ]
          },
          "metadata": {},
          "execution_count": 31
        }
      ],
      "source": [
        "re.findall(r'\\d+-\\d+-\\d+|\\(\\d+\\)\\d+-\\d+',text)"
      ]
    }
  ],
  "metadata": {
    "kernelspec": {
      "display_name": "Python 3",
      "language": "python",
      "name": "python3"
    },
    "language_info": {
      "codemirror_mode": {
        "name": "ipython",
        "version": 3
      },
      "file_extension": ".py",
      "mimetype": "text/x-python",
      "name": "python",
      "nbconvert_exporter": "python",
      "pygments_lexer": "ipython3",
      "version": "3.7.0"
    },
    "colab": {
      "name": "main.ipynb",
      "provenance": [],
      "collapsed_sections": []
    }
  },
  "nbformat": 4,
  "nbformat_minor": 0
}